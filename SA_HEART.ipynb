{
 "cells": [
  {
   "cell_type": "markdown",
   "id": "76233e11",
   "metadata": {},
   "source": [
    "## SAHeart Dataset"
   ]
  },
  {
   "cell_type": "markdown",
   "id": "555c2269",
   "metadata": {},
   "source": [
    "\n",
    "Cardio-vascular diseases are among the most frequent causes of death. Clinically there are\n",
    "widely accepted indicators for potential risk of contracting a cardio-vascular sickness. Hence,\n",
    "the knowledge of the determinant risk factors that lead cardio-vascular sickness can aid decision-\n",
    "making for pretreatment and changing lifestyles to avoid or reduce future complications.\n",
    "\n",
    "The dataset SAHeart.csv is about coronary heart disease (CHD) in South Africa. The goal is\n",
    "to use a set of indicators to identify if a patient has a risk of contracting coronary diseases or\n",
    "not. This predictor variables are:\n",
    "\n",
    "1. x1 =sbp: systolic blood pressure\n",
    "2. x2 =tobacco: cumulative tobacco (kg)\n",
    "3. x3 =ldl: low densiity lipoprotein cholesterol level\n",
    "4. x4 =adiposity: sever overweight\n",
    "5. x5 = famhist: family history of heart disease (Present, Absent)\n",
    "6. x6 =typea: type-A behavior\n",
    "\n",
    "7. x7 =obesity: excessive fat accumulation\n",
    "8. x8 =alcohol: current alcohol consumption\n",
    "9. x9 =age: age at onset\n",
    "10. y =chd: response, coronary heart disease"
   ]
  },
  {
   "cell_type": "code",
   "execution_count": 6,
   "id": "c5f8cebd",
   "metadata": {},
   "outputs": [],
   "source": [
    "import numpy as np\n",
    "import pandas as pd\n",
    "from sklearn.linear_model import LinearRegression,Ridge,Lasso,ElasticNet,LogisticRegression\n",
    "from sklearn.model_selection import train_test_split\n",
    "from sklearn.metrics import accuracy_score,mean_absolute_error,mean_squared_error\n",
    "import matplotlib.pyplot as plt\n",
    "import seaborn as sns\n",
    "warnings.filterwarnings(\"ignore\")"
   ]
  },
  {
   "cell_type": "markdown",
   "id": "cdc1966a",
   "metadata": {},
   "source": [
    "### Uploading this data set and replace non-number data with a reasonable numerical representation"
   ]
  },
  {
   "cell_type": "code",
   "execution_count": 8,
   "id": "0c8e5f55",
   "metadata": {},
   "outputs": [],
   "source": [
    "# libraries specific to this question\n",
    "from sklearn.preprocessing import LabelEncoder\n",
    "from sklearn.metrics import confusion_matrix, accuracy_score\n",
    "\n",
    "# loading the dataset\n",
    "saheart = pd.read_csv('SAheart.data.csv')"
   ]
  },
  {
   "cell_type": "code",
   "execution_count": 9,
   "id": "5efff294",
   "metadata": {},
   "outputs": [
    {
     "data": {
      "text/html": [
       "<div>\n",
       "<style scoped>\n",
       "    .dataframe tbody tr th:only-of-type {\n",
       "        vertical-align: middle;\n",
       "    }\n",
       "\n",
       "    .dataframe tbody tr th {\n",
       "        vertical-align: top;\n",
       "    }\n",
       "\n",
       "    .dataframe thead th {\n",
       "        text-align: right;\n",
       "    }\n",
       "</style>\n",
       "<table border=\"1\" class=\"dataframe\">\n",
       "  <thead>\n",
       "    <tr style=\"text-align: right;\">\n",
       "      <th></th>\n",
       "      <th>row.names</th>\n",
       "      <th>sbp</th>\n",
       "      <th>tobacco</th>\n",
       "      <th>ldl</th>\n",
       "      <th>adiposity</th>\n",
       "      <th>famhist</th>\n",
       "      <th>typea</th>\n",
       "      <th>obesity</th>\n",
       "      <th>alcohol</th>\n",
       "      <th>age</th>\n",
       "      <th>chd</th>\n",
       "    </tr>\n",
       "  </thead>\n",
       "  <tbody>\n",
       "    <tr>\n",
       "      <th>0</th>\n",
       "      <td>1</td>\n",
       "      <td>160</td>\n",
       "      <td>12.00</td>\n",
       "      <td>5.73</td>\n",
       "      <td>23.11</td>\n",
       "      <td>1</td>\n",
       "      <td>49</td>\n",
       "      <td>25.30</td>\n",
       "      <td>97.20</td>\n",
       "      <td>52</td>\n",
       "      <td>1</td>\n",
       "    </tr>\n",
       "    <tr>\n",
       "      <th>1</th>\n",
       "      <td>2</td>\n",
       "      <td>144</td>\n",
       "      <td>0.01</td>\n",
       "      <td>4.41</td>\n",
       "      <td>28.61</td>\n",
       "      <td>0</td>\n",
       "      <td>55</td>\n",
       "      <td>28.87</td>\n",
       "      <td>2.06</td>\n",
       "      <td>63</td>\n",
       "      <td>1</td>\n",
       "    </tr>\n",
       "    <tr>\n",
       "      <th>2</th>\n",
       "      <td>3</td>\n",
       "      <td>118</td>\n",
       "      <td>0.08</td>\n",
       "      <td>3.48</td>\n",
       "      <td>32.28</td>\n",
       "      <td>1</td>\n",
       "      <td>52</td>\n",
       "      <td>29.14</td>\n",
       "      <td>3.81</td>\n",
       "      <td>46</td>\n",
       "      <td>0</td>\n",
       "    </tr>\n",
       "    <tr>\n",
       "      <th>3</th>\n",
       "      <td>4</td>\n",
       "      <td>170</td>\n",
       "      <td>7.50</td>\n",
       "      <td>6.41</td>\n",
       "      <td>38.03</td>\n",
       "      <td>1</td>\n",
       "      <td>51</td>\n",
       "      <td>31.99</td>\n",
       "      <td>24.26</td>\n",
       "      <td>58</td>\n",
       "      <td>1</td>\n",
       "    </tr>\n",
       "    <tr>\n",
       "      <th>4</th>\n",
       "      <td>5</td>\n",
       "      <td>134</td>\n",
       "      <td>13.60</td>\n",
       "      <td>3.50</td>\n",
       "      <td>27.78</td>\n",
       "      <td>1</td>\n",
       "      <td>60</td>\n",
       "      <td>25.99</td>\n",
       "      <td>57.34</td>\n",
       "      <td>49</td>\n",
       "      <td>1</td>\n",
       "    </tr>\n",
       "    <tr>\n",
       "      <th>...</th>\n",
       "      <td>...</td>\n",
       "      <td>...</td>\n",
       "      <td>...</td>\n",
       "      <td>...</td>\n",
       "      <td>...</td>\n",
       "      <td>...</td>\n",
       "      <td>...</td>\n",
       "      <td>...</td>\n",
       "      <td>...</td>\n",
       "      <td>...</td>\n",
       "      <td>...</td>\n",
       "    </tr>\n",
       "    <tr>\n",
       "      <th>457</th>\n",
       "      <td>459</td>\n",
       "      <td>214</td>\n",
       "      <td>0.40</td>\n",
       "      <td>5.98</td>\n",
       "      <td>31.72</td>\n",
       "      <td>0</td>\n",
       "      <td>64</td>\n",
       "      <td>28.45</td>\n",
       "      <td>0.00</td>\n",
       "      <td>58</td>\n",
       "      <td>0</td>\n",
       "    </tr>\n",
       "    <tr>\n",
       "      <th>458</th>\n",
       "      <td>460</td>\n",
       "      <td>182</td>\n",
       "      <td>4.20</td>\n",
       "      <td>4.41</td>\n",
       "      <td>32.10</td>\n",
       "      <td>0</td>\n",
       "      <td>52</td>\n",
       "      <td>28.61</td>\n",
       "      <td>18.72</td>\n",
       "      <td>52</td>\n",
       "      <td>1</td>\n",
       "    </tr>\n",
       "    <tr>\n",
       "      <th>459</th>\n",
       "      <td>461</td>\n",
       "      <td>108</td>\n",
       "      <td>3.00</td>\n",
       "      <td>1.59</td>\n",
       "      <td>15.23</td>\n",
       "      <td>0</td>\n",
       "      <td>40</td>\n",
       "      <td>20.09</td>\n",
       "      <td>26.64</td>\n",
       "      <td>55</td>\n",
       "      <td>0</td>\n",
       "    </tr>\n",
       "    <tr>\n",
       "      <th>460</th>\n",
       "      <td>462</td>\n",
       "      <td>118</td>\n",
       "      <td>5.40</td>\n",
       "      <td>11.61</td>\n",
       "      <td>30.79</td>\n",
       "      <td>0</td>\n",
       "      <td>64</td>\n",
       "      <td>27.35</td>\n",
       "      <td>23.97</td>\n",
       "      <td>40</td>\n",
       "      <td>0</td>\n",
       "    </tr>\n",
       "    <tr>\n",
       "      <th>461</th>\n",
       "      <td>463</td>\n",
       "      <td>132</td>\n",
       "      <td>0.00</td>\n",
       "      <td>4.82</td>\n",
       "      <td>33.41</td>\n",
       "      <td>1</td>\n",
       "      <td>62</td>\n",
       "      <td>14.70</td>\n",
       "      <td>0.00</td>\n",
       "      <td>46</td>\n",
       "      <td>1</td>\n",
       "    </tr>\n",
       "  </tbody>\n",
       "</table>\n",
       "<p>462 rows × 11 columns</p>\n",
       "</div>"
      ],
      "text/plain": [
       "     row.names  sbp  tobacco    ldl  adiposity  famhist  typea  obesity  \\\n",
       "0            1  160    12.00   5.73      23.11        1     49    25.30   \n",
       "1            2  144     0.01   4.41      28.61        0     55    28.87   \n",
       "2            3  118     0.08   3.48      32.28        1     52    29.14   \n",
       "3            4  170     7.50   6.41      38.03        1     51    31.99   \n",
       "4            5  134    13.60   3.50      27.78        1     60    25.99   \n",
       "..         ...  ...      ...    ...        ...      ...    ...      ...   \n",
       "457        459  214     0.40   5.98      31.72        0     64    28.45   \n",
       "458        460  182     4.20   4.41      32.10        0     52    28.61   \n",
       "459        461  108     3.00   1.59      15.23        0     40    20.09   \n",
       "460        462  118     5.40  11.61      30.79        0     64    27.35   \n",
       "461        463  132     0.00   4.82      33.41        1     62    14.70   \n",
       "\n",
       "     alcohol  age  chd  \n",
       "0      97.20   52    1  \n",
       "1       2.06   63    1  \n",
       "2       3.81   46    0  \n",
       "3      24.26   58    1  \n",
       "4      57.34   49    1  \n",
       "..       ...  ...  ...  \n",
       "457     0.00   58    0  \n",
       "458    18.72   52    1  \n",
       "459    26.64   55    0  \n",
       "460    23.97   40    0  \n",
       "461     0.00   46    1  \n",
       "\n",
       "[462 rows x 11 columns]"
      ]
     },
     "execution_count": 9,
     "metadata": {},
     "output_type": "execute_result"
    }
   ],
   "source": [
    "# replace [present, absent] to [1, 0]\n",
    "lb_make = LabelEncoder()\n",
    "saheart['famhist'] = lb_make.fit_transform(saheart[\"famhist\"])\n",
    "saheart"
   ]
  },
  {
   "cell_type": "markdown",
   "id": "8483075f",
   "metadata": {},
   "source": [
    "### Training a logistic regressor to tell if a patient has high risk of CHD or not."
   ]
  },
  {
   "cell_type": "code",
   "execution_count": 10,
   "id": "58344277",
   "metadata": {},
   "outputs": [],
   "source": [
    "x = saheart[['sbp', 'tobacco', 'ldl', 'adiposity', 'famhist', 'typea', 'obesity','alcohol', 'age']].values\n",
    "y = saheart[['chd']].values\n",
    "\n",
    "# Fitting Logistic Regression to the Training set\n",
    "x_train, x_test, y_train, y_test = train_test_split(x, y, test_size = 0.25, random_state = 0)\n",
    "classifier = LogisticRegression(random_state = 0, solver='lbfgs', multi_class='auto')\n",
    "classifier.fit(x_train, y_train)\n",
    "\n",
    "# Predicting the Test set results\n",
    "y_pred = classifier.predict(x_test)\n"
   ]
  },
  {
   "cell_type": "code",
   "execution_count": 11,
   "id": "989c94e9",
   "metadata": {},
   "outputs": [
    {
     "name": "stdout",
     "output_type": "stream",
     "text": [
      "[[68  9]\n",
      " [23 16]]\n",
      "0.7241379310344828\n"
     ]
    }
   ],
   "source": [
    "# checking confusion matrix and accuracy\n",
    "con_mat = confusion_matrix(y_test, y_pred)\n",
    "print(con_mat)\n",
    "print(accuracy_score(y_pred, y_test))"
   ]
  },
  {
   "cell_type": "markdown",
   "id": "3eb3d415",
   "metadata": {},
   "source": [
    "### Identifying if the a patient with the following data is of high risk or not x = [133, 3.3, 4.6, 34.5, present, 52, 30, 32, 20, 44]."
   ]
  },
  {
   "cell_type": "code",
   "execution_count": 12,
   "id": "5e6ba0ca",
   "metadata": {},
   "outputs": [
    {
     "data": {
      "text/plain": [
       "array([0], dtype=int64)"
      ]
     },
     "execution_count": 12,
     "metadata": {},
     "output_type": "execute_result"
    }
   ],
   "source": [
    "# we replaced present with 1, and ignored the last input (what's have you ignored? it's okay!)\n",
    "x1 = [[133, 3.3, 4.6, 34.5, 1 , 52, 30, 32, 20]]\n",
    "y_pred1 = classifier.predict(x1)\n",
    "y_pred1"
   ]
  },
  {
   "cell_type": "markdown",
   "id": "812a50c8",
   "metadata": {},
   "source": [
    "### Checking the most determinant factors for heart disease?\n"
   ]
  },
  {
   "cell_type": "code",
   "execution_count": 13,
   "id": "3992d9d9",
   "metadata": {},
   "outputs": [
    {
     "name": "stdout",
     "output_type": "stream",
     "text": [
      "[[-0.01245675  0.09876644  0.09806837  0.06695784  0.73997731  0.0243292\n",
      "  -0.16390287 -0.00247959  0.0327128 ]] [-0.26479137]\n"
     ]
    }
   ],
   "source": [
    "# lets check their coefficients\n",
    "saheart.corr()\n",
    "print(classifier.coef_, classifier.intercept_)"
   ]
  },
  {
   "cell_type": "markdown",
   "id": "236f28ea",
   "metadata": {},
   "source": [
    "###### From the coefficients of the model ===> the feature with the highest coefficient. Here is the famhist (0.74) which means \"famhist-family histroy\" is the most important features in the dataset."
   ]
  },
  {
   "cell_type": "code",
   "execution_count": null,
   "id": "06e55eba",
   "metadata": {},
   "outputs": [],
   "source": []
  }
 ],
 "metadata": {
  "kernelspec": {
   "display_name": "Python 3 (ipykernel)",
   "language": "python",
   "name": "python3"
  },
  "language_info": {
   "codemirror_mode": {
    "name": "ipython",
    "version": 3
   },
   "file_extension": ".py",
   "mimetype": "text/x-python",
   "name": "python",
   "nbconvert_exporter": "python",
   "pygments_lexer": "ipython3",
   "version": "3.9.7"
  }
 },
 "nbformat": 4,
 "nbformat_minor": 5
}
